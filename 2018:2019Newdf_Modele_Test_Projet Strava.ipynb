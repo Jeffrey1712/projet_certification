{
 "cells": [
  {
   "cell_type": "code",
   "execution_count": 134,
   "metadata": {},
   "outputs": [],
   "source": [
    "import pandas as pd\n",
    "import seaborn as sns \n",
    "from sklearn.model_selection import train_test_split\n",
    "from sklearn.preprocessing import StandardScaler\n",
    "from sklearn.compose import ColumnTransformer\n",
    "from sklearn.tree import DecisionTreeClassifier\n",
    "from sklearn.ensemble import RandomForestClassifier\n",
    "from sklearn.metrics import precision_score\n",
    "from sklearn.metrics import recall_score\n",
    "from sklearn.metrics import accuracy_score\n",
    "from sklearn.metrics import f1_score\n",
    "from sklearn.metrics import confusion_matrix, ConfusionMatrixDisplay\n",
    "import matplotlib.pyplot as plt \n",
    "from sklearn.tree import plot_tree\n",
    "from scipy import stats\n",
    "from sklearn.impute import SimpleImputer\n",
    "from sklearn.preprocessing import StandardScaler, OneHotEncoder\n",
    "from sklearn.linear_model import LogisticRegression\n",
    "from sklearn.linear_model import LinearRegression \n",
    "import math as isfinite\n",
    "import numpy as np\n",
    "import pandas as pd\n",
    "import matplotlib.pyplot as plt\n",
    "import seaborn as sns\n",
    "import sklearn\n",
    "import warnings\n",
    "from sklearn.preprocessing import LabelEncoder\n",
    "from sklearn.impute import KNNImputer\n",
    "from sklearn.ensemble import RandomForestRegressor\n",
    "from sklearn.ensemble import RandomForestRegressor\n",
    "from sklearn.model_selection import cross_val_score\n",
    "from sklearn.model_selection import GridSearchCV\n",
    "from sklearn.svm import SVC"
   ]
  },
  {
   "cell_type": "code",
   "execution_count": 135,
   "metadata": {},
   "outputs": [
    {
     "data": {
      "text/html": [
       "<div>\n",
       "<style scoped>\n",
       "    .dataframe tbody tr th:only-of-type {\n",
       "        vertical-align: middle;\n",
       "    }\n",
       "\n",
       "    .dataframe tbody tr th {\n",
       "        vertical-align: top;\n",
       "    }\n",
       "\n",
       "    .dataframe thead th {\n",
       "        text-align: right;\n",
       "    }\n",
       "</style>\n",
       "<table border=\"1\" class=\"dataframe\">\n",
       "  <thead>\n",
       "    <tr style=\"text-align: right;\">\n",
       "      <th></th>\n",
       "      <th>athlete</th>\n",
       "      <th>gender</th>\n",
       "      <th>timestamp</th>\n",
       "      <th>distance (m)</th>\n",
       "      <th>elapsed time (s)</th>\n",
       "      <th>elevation gain (m)</th>\n",
       "      <th>allure (m/s)</th>\n",
       "      <th>average heart rate (bpm)</th>\n",
       "      <th>previous_allure</th>\n",
       "    </tr>\n",
       "  </thead>\n",
       "  <tbody>\n",
       "    <tr>\n",
       "      <th>0</th>\n",
       "      <td>18042525</td>\n",
       "      <td>M</td>\n",
       "      <td>2019-12-15 09:08:00</td>\n",
       "      <td>2965.8</td>\n",
       "      <td>812</td>\n",
       "      <td>17.4</td>\n",
       "      <td>3.6525</td>\n",
       "      <td>150.3</td>\n",
       "      <td>3.0458</td>\n",
       "    </tr>\n",
       "    <tr>\n",
       "      <th>1</th>\n",
       "      <td>18042525</td>\n",
       "      <td>M</td>\n",
       "      <td>2019-12-10 19:27:00</td>\n",
       "      <td>10020.8</td>\n",
       "      <td>3290</td>\n",
       "      <td>52.2</td>\n",
       "      <td>3.0458</td>\n",
       "      <td>160.8</td>\n",
       "      <td>3.0127</td>\n",
       "    </tr>\n",
       "    <tr>\n",
       "      <th>2</th>\n",
       "      <td>18042525</td>\n",
       "      <td>M</td>\n",
       "      <td>2019-12-03 19:46:00</td>\n",
       "      <td>12132.2</td>\n",
       "      <td>4027</td>\n",
       "      <td>249.0</td>\n",
       "      <td>3.0127</td>\n",
       "      <td>148.9</td>\n",
       "      <td>2.6185</td>\n",
       "    </tr>\n",
       "    <tr>\n",
       "      <th>3</th>\n",
       "      <td>18042525</td>\n",
       "      <td>M</td>\n",
       "      <td>2019-11-26 19:46:00</td>\n",
       "      <td>11631.5</td>\n",
       "      <td>4442</td>\n",
       "      <td>194.0</td>\n",
       "      <td>2.6185</td>\n",
       "      <td>136.2</td>\n",
       "      <td>2.9110</td>\n",
       "    </tr>\n",
       "    <tr>\n",
       "      <th>4</th>\n",
       "      <td>18042525</td>\n",
       "      <td>M</td>\n",
       "      <td>2019-11-19 19:45:00</td>\n",
       "      <td>11708.1</td>\n",
       "      <td>4022</td>\n",
       "      <td>250.7</td>\n",
       "      <td>2.9110</td>\n",
       "      <td>146.0</td>\n",
       "      <td>2.7991</td>\n",
       "    </tr>\n",
       "  </tbody>\n",
       "</table>\n",
       "</div>"
      ],
      "text/plain": [
       "    athlete gender            timestamp  distance (m)  elapsed time (s)  \\\n",
       "0  18042525      M  2019-12-15 09:08:00        2965.8               812   \n",
       "1  18042525      M  2019-12-10 19:27:00       10020.8              3290   \n",
       "2  18042525      M  2019-12-03 19:46:00       12132.2              4027   \n",
       "3  18042525      M  2019-11-26 19:46:00       11631.5              4442   \n",
       "4  18042525      M  2019-11-19 19:45:00       11708.1              4022   \n",
       "\n",
       "   elevation gain (m)  allure (m/s)  average heart rate (bpm)  previous_allure  \n",
       "0                17.4        3.6525                     150.3           3.0458  \n",
       "1                52.2        3.0458                     160.8           3.0127  \n",
       "2               249.0        3.0127                     148.9           2.6185  \n",
       "3               194.0        2.6185                     136.2           2.9110  \n",
       "4               250.7        2.9110                     146.0           2.7991  "
      ]
     },
     "execution_count": 135,
     "metadata": {},
     "output_type": "execute_result"
    }
   ],
   "source": [
    "df = pd.read_csv(\"src/1801_project_previousallure.csv\")\n",
    "df.head()"
   ]
  },
  {
   "cell_type": "code",
   "execution_count": 136,
   "metadata": {},
   "outputs": [],
   "source": [
    "df = df.query(\"timestamp >= '2018' and timestamp < '2020'\")\n",
    "\n"
   ]
  },
  {
   "cell_type": "code",
   "execution_count": 137,
   "metadata": {},
   "outputs": [
    {
     "name": "stderr",
     "output_type": "stream",
     "text": [
      "/var/folders/1c/xb2wz7j57xs_cv_h1d17grhm0000gp/T/ipykernel_60033/800329146.py:1: UserWarning: Parsing dates in %Y-%m-%d %H:%M:%S format when dayfirst=True was specified. Pass `dayfirst=False` or specify a format to silence this warning.\n",
      "  df['timestamp'] = pd.to_datetime(df['timestamp'],dayfirst=True)\n"
     ]
    },
    {
     "data": {
      "text/plain": [
       "timestamp\n",
       "2019    12102\n",
       "2018    11139\n",
       "Name: count, dtype: int64"
      ]
     },
     "execution_count": 137,
     "metadata": {},
     "output_type": "execute_result"
    }
   ],
   "source": [
    "df['timestamp'] = pd.to_datetime(df['timestamp'],dayfirst=True)\n",
    "df[\"timestamp\"].dt.year.value_counts()\n",
    "\n",
    "\n",
    "\n",
    "#df[\"Survived\"]==1\n",
    "#-> renvoie un boolean \"true\" ou \"false\"\n",
    "#-> on renomme ça en condition\n",
    "#condition = df[\"Survived\"]==1\n",
    "\n",
    "#Je crée un nouveau dataframe avec la condition -> c'est un MASQUE : \n",
    "#df[condition]\n",
    "\n",
    "#Possible de créer un dataframe avec plusieurs conditions : \n",
    "#df[condition1 & condition2] = ET \n",
    "#df[condition1 | condition2] = OU"
   ]
  },
  {
   "cell_type": "code",
   "execution_count": 138,
   "metadata": {},
   "outputs": [
    {
     "data": {
      "text/plain": [
       "athlete                     0\n",
       "gender                      0\n",
       "timestamp                   0\n",
       "distance (m)                0\n",
       "elapsed time (s)            0\n",
       "elevation gain (m)          0\n",
       "allure (m/s)                0\n",
       "average heart rate (bpm)    0\n",
       "previous_allure             0\n",
       "dtype: int64"
      ]
     },
     "execution_count": 138,
     "metadata": {},
     "output_type": "execute_result"
    }
   ],
   "source": [
    "df.isin([np.inf, -np.inf]).sum()\n"
   ]
  },
  {
   "cell_type": "code",
   "execution_count": 139,
   "metadata": {},
   "outputs": [],
   "source": [
    "df.replace([np.inf, -np.inf], np.nan, inplace=True) \n"
   ]
  },
  {
   "cell_type": "code",
   "execution_count": 140,
   "metadata": {},
   "outputs": [
    {
     "data": {
      "text/plain": [
       "athlete                      0.000000\n",
       "gender                       0.000000\n",
       "timestamp                    0.000000\n",
       "distance (m)                 0.000000\n",
       "elapsed time (s)             0.000000\n",
       "elevation gain (m)           0.000000\n",
       "allure (m/s)                 0.000000\n",
       "average heart rate (bpm)    39.456134\n",
       "previous_allure              0.098963\n",
       "dtype: float64"
      ]
     },
     "execution_count": 140,
     "metadata": {},
     "output_type": "execute_result"
    }
   ],
   "source": [
    "df.isna().sum() / len(df) * 100\n"
   ]
  },
  {
   "cell_type": "code",
   "execution_count": 141,
   "metadata": {},
   "outputs": [],
   "source": [
    "df = df.dropna(subset=['gender','allure (m/s)','average heart rate (bpm)','previous_allure'])  #Modèle 6\n",
    "#df = df.dropna(subset=['gender','allure (m/s)', 'previous_allure']) # Modéle 5 et 4 "
   ]
  },
  {
   "cell_type": "code",
   "execution_count": 142,
   "metadata": {},
   "outputs": [
    {
     "data": {
      "text/plain": [
       "athlete                     0.0\n",
       "gender                      0.0\n",
       "timestamp                   0.0\n",
       "distance (m)                0.0\n",
       "elapsed time (s)            0.0\n",
       "elevation gain (m)          0.0\n",
       "allure (m/s)                0.0\n",
       "average heart rate (bpm)    0.0\n",
       "previous_allure             0.0\n",
       "dtype: float64"
      ]
     },
     "execution_count": 142,
     "metadata": {},
     "output_type": "execute_result"
    }
   ],
   "source": [
    "df.isna().sum() \n",
    "df.isna().sum() / len(df) * 100"
   ]
  },
  {
   "cell_type": "code",
   "execution_count": 143,
   "metadata": {},
   "outputs": [
    {
     "data": {
      "text/plain": [
       "athlete                     False\n",
       "gender                      False\n",
       "timestamp                   False\n",
       "distance (m)                False\n",
       "elapsed time (s)            False\n",
       "elevation gain (m)          False\n",
       "allure (m/s)                False\n",
       "average heart rate (bpm)    False\n",
       "previous_allure             False\n",
       "dtype: bool"
      ]
     },
     "execution_count": 143,
     "metadata": {},
     "output_type": "execute_result"
    }
   ],
   "source": [
    "df.isnull().any()\n"
   ]
  },
  {
   "cell_type": "code",
   "execution_count": 144,
   "metadata": {},
   "outputs": [
    {
     "data": {
      "text/html": [
       "<div>\n",
       "<style scoped>\n",
       "    .dataframe tbody tr th:only-of-type {\n",
       "        vertical-align: middle;\n",
       "    }\n",
       "\n",
       "    .dataframe tbody tr th {\n",
       "        vertical-align: top;\n",
       "    }\n",
       "\n",
       "    .dataframe thead th {\n",
       "        text-align: right;\n",
       "    }\n",
       "</style>\n",
       "<table border=\"1\" class=\"dataframe\">\n",
       "  <thead>\n",
       "    <tr style=\"text-align: right;\">\n",
       "      <th></th>\n",
       "      <th>athlete</th>\n",
       "      <th>gender</th>\n",
       "      <th>timestamp</th>\n",
       "      <th>distance (m)</th>\n",
       "      <th>elapsed time (s)</th>\n",
       "      <th>elevation gain (m)</th>\n",
       "      <th>allure (m/s)</th>\n",
       "      <th>average heart rate (bpm)</th>\n",
       "      <th>previous_allure</th>\n",
       "    </tr>\n",
       "  </thead>\n",
       "  <tbody>\n",
       "    <tr>\n",
       "      <th>count</th>\n",
       "      <td>1.406100e+04</td>\n",
       "      <td>14061</td>\n",
       "      <td>14061</td>\n",
       "      <td>14061.00000</td>\n",
       "      <td>14061.000000</td>\n",
       "      <td>14061.000000</td>\n",
       "      <td>14061.000000</td>\n",
       "      <td>14061.000000</td>\n",
       "      <td>14061.000000</td>\n",
       "    </tr>\n",
       "    <tr>\n",
       "      <th>unique</th>\n",
       "      <td>NaN</td>\n",
       "      <td>2</td>\n",
       "      <td>NaN</td>\n",
       "      <td>NaN</td>\n",
       "      <td>NaN</td>\n",
       "      <td>NaN</td>\n",
       "      <td>NaN</td>\n",
       "      <td>NaN</td>\n",
       "      <td>NaN</td>\n",
       "    </tr>\n",
       "    <tr>\n",
       "      <th>top</th>\n",
       "      <td>NaN</td>\n",
       "      <td>M</td>\n",
       "      <td>NaN</td>\n",
       "      <td>NaN</td>\n",
       "      <td>NaN</td>\n",
       "      <td>NaN</td>\n",
       "      <td>NaN</td>\n",
       "      <td>NaN</td>\n",
       "      <td>NaN</td>\n",
       "    </tr>\n",
       "    <tr>\n",
       "      <th>freq</th>\n",
       "      <td>NaN</td>\n",
       "      <td>10866</td>\n",
       "      <td>NaN</td>\n",
       "      <td>NaN</td>\n",
       "      <td>NaN</td>\n",
       "      <td>NaN</td>\n",
       "      <td>NaN</td>\n",
       "      <td>NaN</td>\n",
       "      <td>NaN</td>\n",
       "    </tr>\n",
       "    <tr>\n",
       "      <th>mean</th>\n",
       "      <td>1.720297e+07</td>\n",
       "      <td>NaN</td>\n",
       "      <td>2019-01-15 21:17:54.196714496</td>\n",
       "      <td>9946.11273</td>\n",
       "      <td>3459.178508</td>\n",
       "      <td>149.955672</td>\n",
       "      <td>2.970099</td>\n",
       "      <td>147.481730</td>\n",
       "      <td>2.954008</td>\n",
       "    </tr>\n",
       "    <tr>\n",
       "      <th>min</th>\n",
       "      <td>7.715140e+05</td>\n",
       "      <td>NaN</td>\n",
       "      <td>2018-01-01 08:48:00</td>\n",
       "      <td>0.00000</td>\n",
       "      <td>1.000000</td>\n",
       "      <td>0.000000</td>\n",
       "      <td>0.000000</td>\n",
       "      <td>0.000000</td>\n",
       "      <td>0.000000</td>\n",
       "    </tr>\n",
       "    <tr>\n",
       "      <th>25%</th>\n",
       "      <td>1.044697e+07</td>\n",
       "      <td>NaN</td>\n",
       "      <td>2018-07-21 05:12:00</td>\n",
       "      <td>7302.20000</td>\n",
       "      <td>2495.000000</td>\n",
       "      <td>32.000000</td>\n",
       "      <td>2.684500</td>\n",
       "      <td>138.400000</td>\n",
       "      <td>2.674000</td>\n",
       "    </tr>\n",
       "    <tr>\n",
       "      <th>50%</th>\n",
       "      <td>1.763980e+07</td>\n",
       "      <td>NaN</td>\n",
       "      <td>2019-02-01 11:02:00</td>\n",
       "      <td>10030.80000</td>\n",
       "      <td>3371.000000</td>\n",
       "      <td>72.000000</td>\n",
       "      <td>2.979800</td>\n",
       "      <td>148.200000</td>\n",
       "      <td>2.971600</td>\n",
       "    </tr>\n",
       "    <tr>\n",
       "      <th>75%</th>\n",
       "      <td>2.286624e+07</td>\n",
       "      <td>NaN</td>\n",
       "      <td>2019-07-14 06:50:00</td>\n",
       "      <td>12396.40000</td>\n",
       "      <td>4218.000000</td>\n",
       "      <td>189.000000</td>\n",
       "      <td>3.287000</td>\n",
       "      <td>157.800000</td>\n",
       "      <td>3.280500</td>\n",
       "    </tr>\n",
       "    <tr>\n",
       "      <th>max</th>\n",
       "      <td>4.579977e+07</td>\n",
       "      <td>NaN</td>\n",
       "      <td>2019-12-31 17:01:00</td>\n",
       "      <td>21320.50000</td>\n",
       "      <td>19321.000000</td>\n",
       "      <td>1055.000000</td>\n",
       "      <td>26.774400</td>\n",
       "      <td>237.000000</td>\n",
       "      <td>26.774400</td>\n",
       "    </tr>\n",
       "    <tr>\n",
       "      <th>std</th>\n",
       "      <td>9.294248e+06</td>\n",
       "      <td>NaN</td>\n",
       "      <td>NaN</td>\n",
       "      <td>4150.64464</td>\n",
       "      <td>1631.519227</td>\n",
       "      <td>193.237973</td>\n",
       "      <td>0.633547</td>\n",
       "      <td>16.682581</td>\n",
       "      <td>0.649621</td>\n",
       "    </tr>\n",
       "  </tbody>\n",
       "</table>\n",
       "</div>"
      ],
      "text/plain": [
       "             athlete gender                      timestamp  distance (m)  \\\n",
       "count   1.406100e+04  14061                          14061   14061.00000   \n",
       "unique           NaN      2                            NaN           NaN   \n",
       "top              NaN      M                            NaN           NaN   \n",
       "freq             NaN  10866                            NaN           NaN   \n",
       "mean    1.720297e+07    NaN  2019-01-15 21:17:54.196714496    9946.11273   \n",
       "min     7.715140e+05    NaN            2018-01-01 08:48:00       0.00000   \n",
       "25%     1.044697e+07    NaN            2018-07-21 05:12:00    7302.20000   \n",
       "50%     1.763980e+07    NaN            2019-02-01 11:02:00   10030.80000   \n",
       "75%     2.286624e+07    NaN            2019-07-14 06:50:00   12396.40000   \n",
       "max     4.579977e+07    NaN            2019-12-31 17:01:00   21320.50000   \n",
       "std     9.294248e+06    NaN                            NaN    4150.64464   \n",
       "\n",
       "        elapsed time (s)  elevation gain (m)  allure (m/s)  \\\n",
       "count       14061.000000        14061.000000  14061.000000   \n",
       "unique               NaN                 NaN           NaN   \n",
       "top                  NaN                 NaN           NaN   \n",
       "freq                 NaN                 NaN           NaN   \n",
       "mean         3459.178508          149.955672      2.970099   \n",
       "min             1.000000            0.000000      0.000000   \n",
       "25%          2495.000000           32.000000      2.684500   \n",
       "50%          3371.000000           72.000000      2.979800   \n",
       "75%          4218.000000          189.000000      3.287000   \n",
       "max         19321.000000         1055.000000     26.774400   \n",
       "std          1631.519227          193.237973      0.633547   \n",
       "\n",
       "        average heart rate (bpm)  previous_allure  \n",
       "count               14061.000000     14061.000000  \n",
       "unique                       NaN              NaN  \n",
       "top                          NaN              NaN  \n",
       "freq                         NaN              NaN  \n",
       "mean                  147.481730         2.954008  \n",
       "min                     0.000000         0.000000  \n",
       "25%                   138.400000         2.674000  \n",
       "50%                   148.200000         2.971600  \n",
       "75%                   157.800000         3.280500  \n",
       "max                   237.000000        26.774400  \n",
       "std                    16.682581         0.649621  "
      ]
     },
     "execution_count": 144,
     "metadata": {},
     "output_type": "execute_result"
    }
   ],
   "source": [
    "df.describe(include=\"all\")"
   ]
  },
  {
   "cell_type": "code",
   "execution_count": 145,
   "metadata": {},
   "outputs": [],
   "source": [
    "#df.to_csv(r\"/Users/jeffreyensenat/Downloads/clean_project_dataset.csv\")"
   ]
  },
  {
   "cell_type": "code",
   "execution_count": 146,
   "metadata": {},
   "outputs": [
    {
     "name": "stdout",
     "output_type": "stream",
     "text": [
      "(14061, 4)\n",
      "(14061,)\n",
      "      gender  elevation gain (m)  average heart rate (bpm)  previous_allure\n",
      "0          M                17.4                     150.3           3.0458\n",
      "1          M                52.2                     160.8           3.0127\n",
      "2          M               249.0                     148.9           2.6185\n",
      "3          M               194.0                     136.2           2.9110\n",
      "4          M               250.7                     146.0           2.7991\n",
      "...      ...                 ...                       ...              ...\n",
      "38358      F               427.7                     124.6           2.5753\n",
      "38359      F                37.4                     153.4           2.1247\n",
      "38360      F               206.1                     144.0           2.4718\n",
      "38361      F               143.5                     158.5           2.5610\n",
      "38362      F                16.8                     150.8           2.3932\n",
      "\n",
      "[14061 rows x 4 columns]\n",
      "<class 'pandas.core.frame.DataFrame'>\n",
      "0        3.6525\n",
      "1        3.0458\n",
      "2        3.0127\n",
      "3        2.6185\n",
      "4        2.9110\n",
      "          ...  \n",
      "38358    1.9348\n",
      "38359    2.5753\n",
      "38360    2.1247\n",
      "38361    2.4718\n",
      "38362    2.5610\n",
      "Name: allure (m/s), Length: 14061, dtype: float64\n",
      "<class 'pandas.core.series.Series'>\n"
     ]
    }
   ],
   "source": [
    "feature_list = [\"gender\", \"elevation gain (m)\", \"average heart rate (bpm)\", \"previous_allure\" ]\n",
    "X = df.loc[:, feature_list]\n",
    "y = df.loc[:, \"allure (m/s)\"]\n",
    "\n",
    "print (X.shape)\n",
    "print (y.shape)\n",
    "\n",
    "print(X)\n",
    "print(type(X))\n",
    "\n",
    "print(y)\n",
    "print(type(y))"
   ]
  },
  {
   "cell_type": "code",
   "execution_count": 147,
   "metadata": {},
   "outputs": [],
   "source": [
    "X_train, X_test, y_train, y_test = train_test_split(X, y, \n",
    "                                                    test_size=0.2, \n",
    "                                                    random_state=0) \n",
    "\n",
    "                                                    "
   ]
  },
  {
   "cell_type": "code",
   "execution_count": 148,
   "metadata": {},
   "outputs": [
    {
     "data": {
      "text/html": [
       "<div>\n",
       "<style scoped>\n",
       "    .dataframe tbody tr th:only-of-type {\n",
       "        vertical-align: middle;\n",
       "    }\n",
       "\n",
       "    .dataframe tbody tr th {\n",
       "        vertical-align: top;\n",
       "    }\n",
       "\n",
       "    .dataframe thead th {\n",
       "        text-align: right;\n",
       "    }\n",
       "</style>\n",
       "<table border=\"1\" class=\"dataframe\">\n",
       "  <thead>\n",
       "    <tr style=\"text-align: right;\">\n",
       "      <th></th>\n",
       "      <th>gender</th>\n",
       "      <th>elevation gain (m)</th>\n",
       "      <th>average heart rate (bpm)</th>\n",
       "      <th>previous_allure</th>\n",
       "    </tr>\n",
       "  </thead>\n",
       "  <tbody>\n",
       "    <tr>\n",
       "      <th>28307</th>\n",
       "      <td>M</td>\n",
       "      <td>44.0</td>\n",
       "      <td>161.8</td>\n",
       "      <td>2.7890</td>\n",
       "    </tr>\n",
       "    <tr>\n",
       "      <th>19304</th>\n",
       "      <td>M</td>\n",
       "      <td>176.2</td>\n",
       "      <td>157.1</td>\n",
       "      <td>3.1083</td>\n",
       "    </tr>\n",
       "    <tr>\n",
       "      <th>25745</th>\n",
       "      <td>F</td>\n",
       "      <td>79.0</td>\n",
       "      <td>169.5</td>\n",
       "      <td>2.5579</td>\n",
       "    </tr>\n",
       "    <tr>\n",
       "      <th>28459</th>\n",
       "      <td>M</td>\n",
       "      <td>372.4</td>\n",
       "      <td>135.7</td>\n",
       "      <td>3.0234</td>\n",
       "    </tr>\n",
       "    <tr>\n",
       "      <th>13544</th>\n",
       "      <td>M</td>\n",
       "      <td>261.5</td>\n",
       "      <td>139.2</td>\n",
       "      <td>3.3131</td>\n",
       "    </tr>\n",
       "    <tr>\n",
       "      <th>37542</th>\n",
       "      <td>F</td>\n",
       "      <td>0.0</td>\n",
       "      <td>152.6</td>\n",
       "      <td>4.2240</td>\n",
       "    </tr>\n",
       "    <tr>\n",
       "      <th>23449</th>\n",
       "      <td>M</td>\n",
       "      <td>430.0</td>\n",
       "      <td>158.2</td>\n",
       "      <td>2.9994</td>\n",
       "    </tr>\n",
       "    <tr>\n",
       "      <th>2478</th>\n",
       "      <td>M</td>\n",
       "      <td>128.4</td>\n",
       "      <td>119.0</td>\n",
       "      <td>2.7060</td>\n",
       "    </tr>\n",
       "    <tr>\n",
       "      <th>13564</th>\n",
       "      <td>M</td>\n",
       "      <td>116.1</td>\n",
       "      <td>171.9</td>\n",
       "      <td>3.2720</td>\n",
       "    </tr>\n",
       "    <tr>\n",
       "      <th>18759</th>\n",
       "      <td>M</td>\n",
       "      <td>33.6</td>\n",
       "      <td>135.5</td>\n",
       "      <td>2.4646</td>\n",
       "    </tr>\n",
       "    <tr>\n",
       "      <th>34500</th>\n",
       "      <td>M</td>\n",
       "      <td>58.0</td>\n",
       "      <td>129.6</td>\n",
       "      <td>3.0531</td>\n",
       "    </tr>\n",
       "    <tr>\n",
       "      <th>6661</th>\n",
       "      <td>F</td>\n",
       "      <td>66.0</td>\n",
       "      <td>154.7</td>\n",
       "      <td>2.8420</td>\n",
       "    </tr>\n",
       "    <tr>\n",
       "      <th>27653</th>\n",
       "      <td>M</td>\n",
       "      <td>322.0</td>\n",
       "      <td>148.3</td>\n",
       "      <td>3.2795</td>\n",
       "    </tr>\n",
       "    <tr>\n",
       "      <th>34577</th>\n",
       "      <td>M</td>\n",
       "      <td>57.0</td>\n",
       "      <td>148.1</td>\n",
       "      <td>3.6066</td>\n",
       "    </tr>\n",
       "    <tr>\n",
       "      <th>26605</th>\n",
       "      <td>F</td>\n",
       "      <td>228.4</td>\n",
       "      <td>149.0</td>\n",
       "      <td>2.6174</td>\n",
       "    </tr>\n",
       "    <tr>\n",
       "      <th>18662</th>\n",
       "      <td>M</td>\n",
       "      <td>75.0</td>\n",
       "      <td>139.9</td>\n",
       "      <td>2.8782</td>\n",
       "    </tr>\n",
       "    <tr>\n",
       "      <th>15120</th>\n",
       "      <td>F</td>\n",
       "      <td>264.0</td>\n",
       "      <td>145.9</td>\n",
       "      <td>1.6936</td>\n",
       "    </tr>\n",
       "    <tr>\n",
       "      <th>28414</th>\n",
       "      <td>M</td>\n",
       "      <td>16.8</td>\n",
       "      <td>172.8</td>\n",
       "      <td>2.5405</td>\n",
       "    </tr>\n",
       "    <tr>\n",
       "      <th>11370</th>\n",
       "      <td>F</td>\n",
       "      <td>28.1</td>\n",
       "      <td>122.1</td>\n",
       "      <td>3.0664</td>\n",
       "    </tr>\n",
       "    <tr>\n",
       "      <th>10078</th>\n",
       "      <td>M</td>\n",
       "      <td>19.0</td>\n",
       "      <td>126.3</td>\n",
       "      <td>3.1232</td>\n",
       "    </tr>\n",
       "  </tbody>\n",
       "</table>\n",
       "</div>"
      ],
      "text/plain": [
       "      gender  elevation gain (m)  average heart rate (bpm)  previous_allure\n",
       "28307      M                44.0                     161.8           2.7890\n",
       "19304      M               176.2                     157.1           3.1083\n",
       "25745      F                79.0                     169.5           2.5579\n",
       "28459      M               372.4                     135.7           3.0234\n",
       "13544      M               261.5                     139.2           3.3131\n",
       "37542      F                 0.0                     152.6           4.2240\n",
       "23449      M               430.0                     158.2           2.9994\n",
       "2478       M               128.4                     119.0           2.7060\n",
       "13564      M               116.1                     171.9           3.2720\n",
       "18759      M                33.6                     135.5           2.4646\n",
       "34500      M                58.0                     129.6           3.0531\n",
       "6661       F                66.0                     154.7           2.8420\n",
       "27653      M               322.0                     148.3           3.2795\n",
       "34577      M                57.0                     148.1           3.6066\n",
       "26605      F               228.4                     149.0           2.6174\n",
       "18662      M                75.0                     139.9           2.8782\n",
       "15120      F               264.0                     145.9           1.6936\n",
       "28414      M                16.8                     172.8           2.5405\n",
       "11370      F                28.1                     122.1           3.0664\n",
       "10078      M                19.0                     126.3           3.1232"
      ]
     },
     "execution_count": 148,
     "metadata": {},
     "output_type": "execute_result"
    }
   ],
   "source": [
    "X_train.head(20)"
   ]
  },
  {
   "cell_type": "code",
   "execution_count": 149,
   "metadata": {},
   "outputs": [],
   "source": [
    "#numerical_imputer = SimpleImputer(strategy=\"mean\")\n",
    "#X_train[[\"average heart rate (bpm)\"]] = numerical_imputer.fit_transform(X_train[[\"average heart rate (bpm)\"]])\n",
    "# Pour le modèle 5"
   ]
  },
  {
   "cell_type": "code",
   "execution_count": 150,
   "metadata": {},
   "outputs": [],
   "source": [
    "#numerical_imputer = SimpleImputer(strategy=\"mean\")\n",
    "#X_test[[\"average heart rate (bpm)\"]] = numerical_imputer.fit_transform(X_test[[\"average heart rate (bpm)\"]])\n",
    "# pour le modèle 5"
   ]
  },
  {
   "cell_type": "code",
   "execution_count": 151,
   "metadata": {},
   "outputs": [
    {
     "data": {
      "text/plain": [
       "gender                      False\n",
       "elevation gain (m)          False\n",
       "average heart rate (bpm)    False\n",
       "previous_allure             False\n",
       "dtype: bool"
      ]
     },
     "execution_count": 151,
     "metadata": {},
     "output_type": "execute_result"
    }
   ],
   "source": [
    "X_train.isnull().any()\n"
   ]
  },
  {
   "cell_type": "code",
   "execution_count": 152,
   "metadata": {},
   "outputs": [
    {
     "name": "stdout",
     "output_type": "stream",
     "text": [
      "[[ 0.          1.         -0.54566224  0.86767249 -0.25028069]\n",
      " [ 0.          1.          0.13910959  0.58302186  0.23536095]\n",
      " [ 1.          0.         -0.36436864  1.33401503 -0.60177391]\n",
      " [ 0.          1.          1.15538972 -0.713047    0.10623168]\n",
      " [ 0.          1.          0.580948   -0.50107313  0.546853  ]]\n"
     ]
    }
   ],
   "source": [
    "numeric_features = [1,2,3] \n",
    "numeric_transformer = StandardScaler()\n",
    "\n",
    "categorical_features = [0] \n",
    "categorical_transformer = OneHotEncoder()\n",
    "\n",
    "feature_encoder = ColumnTransformer(\n",
    "    transformers=[\n",
    "      ('cat', categorical_transformer, categorical_features),\n",
    "      ('num', numeric_transformer, numeric_features)])\n",
    "\n",
    "X_train = feature_encoder.fit_transform(X_train)\n",
    "\n",
    "print(X_train[0:5,:])"
   ]
  },
  {
   "cell_type": "code",
   "execution_count": 153,
   "metadata": {},
   "outputs": [],
   "source": [
    "#param_grid = [{'n_estimators' : [3, 10, 50, 100, 200], 'max_features' : [2,4,6,8]}]\n",
    "              "
   ]
  },
  {
   "cell_type": "code",
   "execution_count": 154,
   "metadata": {},
   "outputs": [],
   "source": [
    "#forest_reg = RandomForestRegressor(random_state=0)\n",
    "\n",
    "#grid_search = GridSearchCV(forest_reg, param_grid, cv=5,\n",
    "#                           scoring = 'neg_mean_squared_error', \n",
    "#                           return_train_score=True)\n",
    "#grid_search.fit(X_train, y_train)\n"
   ]
  },
  {
   "cell_type": "code",
   "execution_count": 155,
   "metadata": {},
   "outputs": [],
   "source": [
    "#best_params = grid_search.best_params_\n",
    "#best_score = grid_search.best_score_\n",
    "#print(best_params)\n",
    "#print(best_score)"
   ]
  },
  {
   "cell_type": "code",
   "execution_count": 156,
   "metadata": {},
   "outputs": [
    {
     "data": {
      "text/html": [
       "<style>#sk-container-id-6 {color: black;}#sk-container-id-6 pre{padding: 0;}#sk-container-id-6 div.sk-toggleable {background-color: white;}#sk-container-id-6 label.sk-toggleable__label {cursor: pointer;display: block;width: 100%;margin-bottom: 0;padding: 0.3em;box-sizing: border-box;text-align: center;}#sk-container-id-6 label.sk-toggleable__label-arrow:before {content: \"▸\";float: left;margin-right: 0.25em;color: #696969;}#sk-container-id-6 label.sk-toggleable__label-arrow:hover:before {color: black;}#sk-container-id-6 div.sk-estimator:hover label.sk-toggleable__label-arrow:before {color: black;}#sk-container-id-6 div.sk-toggleable__content {max-height: 0;max-width: 0;overflow: hidden;text-align: left;background-color: #f0f8ff;}#sk-container-id-6 div.sk-toggleable__content pre {margin: 0.2em;color: black;border-radius: 0.25em;background-color: #f0f8ff;}#sk-container-id-6 input.sk-toggleable__control:checked~div.sk-toggleable__content {max-height: 200px;max-width: 100%;overflow: auto;}#sk-container-id-6 input.sk-toggleable__control:checked~label.sk-toggleable__label-arrow:before {content: \"▾\";}#sk-container-id-6 div.sk-estimator input.sk-toggleable__control:checked~label.sk-toggleable__label {background-color: #d4ebff;}#sk-container-id-6 div.sk-label input.sk-toggleable__control:checked~label.sk-toggleable__label {background-color: #d4ebff;}#sk-container-id-6 input.sk-hidden--visually {border: 0;clip: rect(1px 1px 1px 1px);clip: rect(1px, 1px, 1px, 1px);height: 1px;margin: -1px;overflow: hidden;padding: 0;position: absolute;width: 1px;}#sk-container-id-6 div.sk-estimator {font-family: monospace;background-color: #f0f8ff;border: 1px dotted black;border-radius: 0.25em;box-sizing: border-box;margin-bottom: 0.5em;}#sk-container-id-6 div.sk-estimator:hover {background-color: #d4ebff;}#sk-container-id-6 div.sk-parallel-item::after {content: \"\";width: 100%;border-bottom: 1px solid gray;flex-grow: 1;}#sk-container-id-6 div.sk-label:hover label.sk-toggleable__label {background-color: #d4ebff;}#sk-container-id-6 div.sk-serial::before {content: \"\";position: absolute;border-left: 1px solid gray;box-sizing: border-box;top: 0;bottom: 0;left: 50%;z-index: 0;}#sk-container-id-6 div.sk-serial {display: flex;flex-direction: column;align-items: center;background-color: white;padding-right: 0.2em;padding-left: 0.2em;position: relative;}#sk-container-id-6 div.sk-item {position: relative;z-index: 1;}#sk-container-id-6 div.sk-parallel {display: flex;align-items: stretch;justify-content: center;background-color: white;position: relative;}#sk-container-id-6 div.sk-item::before, #sk-container-id-6 div.sk-parallel-item::before {content: \"\";position: absolute;border-left: 1px solid gray;box-sizing: border-box;top: 0;bottom: 0;left: 50%;z-index: -1;}#sk-container-id-6 div.sk-parallel-item {display: flex;flex-direction: column;z-index: 1;position: relative;background-color: white;}#sk-container-id-6 div.sk-parallel-item:first-child::after {align-self: flex-end;width: 50%;}#sk-container-id-6 div.sk-parallel-item:last-child::after {align-self: flex-start;width: 50%;}#sk-container-id-6 div.sk-parallel-item:only-child::after {width: 0;}#sk-container-id-6 div.sk-dashed-wrapped {border: 1px dashed gray;margin: 0 0.4em 0.5em 0.4em;box-sizing: border-box;padding-bottom: 0.4em;background-color: white;}#sk-container-id-6 div.sk-label label {font-family: monospace;font-weight: bold;display: inline-block;line-height: 1.2em;}#sk-container-id-6 div.sk-label-container {text-align: center;}#sk-container-id-6 div.sk-container {/* jupyter's `normalize.less` sets `[hidden] { display: none; }` but bootstrap.min.css set `[hidden] { display: none !important; }` so we also need the `!important` here to be able to override the default hidden behavior on the sphinx rendered scikit-learn.org. See: https://github.com/scikit-learn/scikit-learn/issues/21755 */display: inline-block !important;position: relative;}#sk-container-id-6 div.sk-text-repr-fallback {display: none;}</style><div id=\"sk-container-id-6\" class=\"sk-top-container\"><div class=\"sk-text-repr-fallback\"><pre>RandomForestRegressor(max_depth=11, max_features=2, n_estimators=200,\n",
       "                      random_state=0)</pre><b>In a Jupyter environment, please rerun this cell to show the HTML representation or trust the notebook. <br />On GitHub, the HTML representation is unable to render, please try loading this page with nbviewer.org.</b></div><div class=\"sk-container\" hidden><div class=\"sk-item\"><div class=\"sk-estimator sk-toggleable\"><input class=\"sk-toggleable__control sk-hidden--visually\" id=\"sk-estimator-id-8\" type=\"checkbox\" checked><label for=\"sk-estimator-id-8\" class=\"sk-toggleable__label sk-toggleable__label-arrow\">RandomForestRegressor</label><div class=\"sk-toggleable__content\"><pre>RandomForestRegressor(max_depth=11, max_features=2, n_estimators=200,\n",
       "                      random_state=0)</pre></div></div></div></div></div>"
      ],
      "text/plain": [
       "RandomForestRegressor(max_depth=11, max_features=2, n_estimators=200,\n",
       "                      random_state=0)"
      ]
     },
     "execution_count": 156,
     "metadata": {},
     "output_type": "execute_result"
    }
   ],
   "source": [
    "Regressor = RandomForestRegressor(n_estimators=200, random_state=0, max_features=2, max_depth=11)\n",
    "Regressor.fit(X_train, y_train)"
   ]
  },
  {
   "cell_type": "code",
   "execution_count": 157,
   "metadata": {},
   "outputs": [
    {
     "name": "stdout",
     "output_type": "stream",
     "text": [
      "[[ 0.          1.         -0.54566224  0.86767249 -0.25028069]\n",
      " [ 0.          1.          0.13910959  0.58302186  0.23536095]\n",
      " [ 1.          0.         -0.36436864  1.33401503 -0.60177391]\n",
      " [ 0.          1.          1.15538972 -0.713047    0.10623168]\n",
      " [ 0.          1.          0.580948   -0.50107313  0.546853  ]\n",
      " [ 1.          0.         -0.7735742   0.31048401  1.93229295]\n",
      " [ 0.          1.          1.45374719  0.64964222  0.06972871]\n",
      " [ 0.          1.         -0.10848567 -1.72446523 -0.37652015]\n",
      " [ 0.          1.         -0.17219742  1.47936855  0.48434165]\n",
      " [ 0.          1.         -0.59953234 -0.7251598  -0.74367922]]\n",
      "[3.2684539  3.21761488 2.69258225 2.6296235  3.02842977]\n"
     ]
    }
   ],
   "source": [
    "print(X_train[:10])\n",
    "\n",
    "y_train_pred = Regressor.predict(X_train)\n",
    "\n",
    "print(y_train_pred[:5])\n"
   ]
  },
  {
   "cell_type": "code",
   "execution_count": 158,
   "metadata": {},
   "outputs": [
    {
     "data": {
      "image/png": "[encoded data removed]",
      "text/plain": [
       "<Figure size 640x480 with 1 Axes>"
      ]
     },
     "metadata": {},
     "output_type": "display_data"
    }
   ],
   "source": [
    "fig, ax = plt.subplots()\n",
    "ax.set_title(\"y_train & y_train_pred vs X_train\")\n",
    "ax.set_xlabel(\"Xtrain\")\n",
    "ax.set_ylabel(\"y_train, y_test_pred\")\n",
    "\n",
    "\n",
    "_ = ax.scatter(X_train[:,3], y_train)\n",
    "_ = ax.scatter(X_train[:,3], y_train_pred, c=\"red\")\n",
    "\n",
    "_ = ax.legend(('y_train', 'y_train_pred'))\n",
    "\n"
   ]
  },
  {
   "cell_type": "code",
   "execution_count": 159,
   "metadata": {},
   "outputs": [
    {
     "name": "stdout",
     "output_type": "stream",
     "text": [
      "      gender  elevation gain (m)  average heart rate (bpm)  previous_allure\n",
      "11330      F                14.9                     140.0           2.7110\n",
      "29228      M               289.0                     143.8           3.6643\n",
      "28122      M               855.2                     161.4           3.0196\n",
      "36906      M               368.6                     163.7           2.9284\n",
      "16643      M                78.7                     126.3           3.1537\n",
      "...      ...                 ...                       ...              ...\n",
      "35872      M                 3.3                     118.5           3.4048\n",
      "18835      M                87.4                     157.6           3.0267\n",
      "23533      F                19.8                     165.8           2.5827\n",
      "3574       M                29.1                     147.8           3.2609\n",
      "25351      M               818.0                     162.7           2.6323\n",
      "\n",
      "[2803 rows x 4 columns]\n",
      "[[ 1.          0.         -0.69639492 -0.45262195 -0.36891536]\n",
      " [ 0.          1.          0.72339297 -0.22247888  1.08101318]\n",
      " [ 0.          1.          3.65620546  0.84344691  0.10045205]\n",
      " [ 0.          1.          1.13570642  0.98274403 -0.03825925]\n",
      " [ 0.          1.         -0.36592259 -1.28234828  0.30441241]]\n",
      "[2.73513048 3.04535479 2.24891351 2.9134777  3.07158222]\n"
     ]
    }
   ],
   "source": [
    "print(X_test[:-10])\n",
    "\n",
    "X_test = feature_encoder.transform(X_test) \n",
    "print(X_test[:5])\n",
    "\n",
    "y_test_pred = Regressor.predict(X_test)\n",
    "print(y_test_pred[:5])"
   ]
  },
  {
   "cell_type": "code",
   "execution_count": 160,
   "metadata": {},
   "outputs": [
    {
     "data": {
      "image/png": "[encoded data removed]",
      "text/plain": [
       "<Figure size 640x480 with 1 Axes>"
      ]
     },
     "metadata": {},
     "output_type": "display_data"
    }
   ],
   "source": [
    "fig, ax = plt.subplots()\n",
    "ax.set_title(\"y_test & y_test_pred vs X_test\")\n",
    "ax.set_xlabel(\"Xtest\")\n",
    "ax.set_ylabel(\"y_test, y_test_pred\")\n",
    "ax.scatter(X_test[:,3], y_test)\n",
    "ax.scatter(X_test[:,3], y_test_pred, c=\"red\")\n",
    "_ = ax.legend(('y_test', 'y_test_pred'))"
   ]
  },
  {
   "cell_type": "code",
   "execution_count": 161,
   "metadata": {},
   "outputs": [
    {
     "name": "stdout",
     "output_type": "stream",
     "text": [
      "R² score on training set : 0.69\n",
      "R² score on test set     : 0.34\n"
     ]
    }
   ],
   "source": [
    "print(f\"R² score on training set : {Regressor.score(X_train, y_train):.2f}\")\n",
    "print(f\"R² score on test set     : {Regressor.score(X_test, y_test):.2f}\")"
   ]
  }
 ],
 "metadata": {
  "interpreter": {
   "hash": "216d08ced86f1f6e0b5764233bcb18334be12ba95b6ee555f60be9cf0be8c147"
  },
  "kernelspec": {
   "display_name": "Python 3.8.3 64-bit ('base': conda)",
   "name": "python3"
  },
  "language_info": {
   "codemirror_mode": {
    "name": "ipython",
    "version": 3
   },
   "file_extension": ".py",
   "mimetype": "text/x-python",
   "name": "python",
   "nbconvert_exporter": "python",
   "pygments_lexer": "ipython3",
   "version": "3.11.2"
  },
  "orig_nbformat": 2
 },
 "nbformat": 4,
 "nbformat_minor": 2
}
